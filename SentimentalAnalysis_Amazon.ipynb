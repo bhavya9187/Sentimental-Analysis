{
 "cells": [
  {
   "cell_type": "code",
   "execution_count": 33,
   "id": "886e8c6f",
   "metadata": {
    "ExecuteTime": {
     "end_time": "2021-09-22T15:37:34.685636Z",
     "start_time": "2021-09-22T15:37:34.662405Z"
    }
   },
   "outputs": [],
   "source": [
    "import numpy as np \n",
    "import pandas as pd \n",
    "import string \n",
    "import spacy \n",
    "\n",
    "from matplotlib.pyplot import imread\n",
    "from matplotlib import pyplot as plt\n",
    "from wordcloud import WordCloud\n",
    "%matplotlib inline\n"
   ]
  },
  {
   "cell_type": "code",
   "execution_count": 3,
   "id": "c00c57c2",
   "metadata": {
    "ExecuteTime": {
     "end_time": "2021-09-22T14:36:30.807106Z",
     "start_time": "2021-09-22T14:36:30.769121Z"
    }
   },
   "outputs": [
    {
     "data": {
      "text/plain": [
       "(2477, 2)"
      ]
     },
     "execution_count": 3,
     "metadata": {},
     "output_type": "execute_result"
    }
   ],
   "source": [
    "afinn = pd.read_csv('Afinn.csv', sep=',', encoding='latin-1')\n",
    "afinn.shape "
   ]
  },
  {
   "cell_type": "code",
   "execution_count": 4,
   "id": "3b804c87",
   "metadata": {
    "ExecuteTime": {
     "end_time": "2021-09-22T14:36:30.925089Z",
     "start_time": "2021-09-22T14:36:30.866861Z"
    }
   },
   "outputs": [
    {
     "data": {
      "text/html": [
       "<div>\n",
       "<style scoped>\n",
       "    .dataframe tbody tr th:only-of-type {\n",
       "        vertical-align: middle;\n",
       "    }\n",
       "\n",
       "    .dataframe tbody tr th {\n",
       "        vertical-align: top;\n",
       "    }\n",
       "\n",
       "    .dataframe thead th {\n",
       "        text-align: right;\n",
       "    }\n",
       "</style>\n",
       "<table border=\"1\" class=\"dataframe\">\n",
       "  <thead>\n",
       "    <tr style=\"text-align: right;\">\n",
       "      <th></th>\n",
       "      <th>word</th>\n",
       "      <th>value</th>\n",
       "    </tr>\n",
       "  </thead>\n",
       "  <tbody>\n",
       "    <tr>\n",
       "      <th>0</th>\n",
       "      <td>abandon</td>\n",
       "      <td>-2</td>\n",
       "    </tr>\n",
       "    <tr>\n",
       "      <th>1</th>\n",
       "      <td>abandoned</td>\n",
       "      <td>-2</td>\n",
       "    </tr>\n",
       "    <tr>\n",
       "      <th>2</th>\n",
       "      <td>abandons</td>\n",
       "      <td>-2</td>\n",
       "    </tr>\n",
       "    <tr>\n",
       "      <th>3</th>\n",
       "      <td>abducted</td>\n",
       "      <td>-2</td>\n",
       "    </tr>\n",
       "    <tr>\n",
       "      <th>4</th>\n",
       "      <td>abduction</td>\n",
       "      <td>-2</td>\n",
       "    </tr>\n",
       "  </tbody>\n",
       "</table>\n",
       "</div>"
      ],
      "text/plain": [
       "        word  value\n",
       "0    abandon     -2\n",
       "1  abandoned     -2\n",
       "2   abandons     -2\n",
       "3   abducted     -2\n",
       "4  abduction     -2"
      ]
     },
     "execution_count": 4,
     "metadata": {},
     "output_type": "execute_result"
    }
   ],
   "source": [
    "afinn.head() "
   ]
  },
  {
   "cell_type": "code",
   "execution_count": 15,
   "id": "f1072c32",
   "metadata": {
    "ExecuteTime": {
     "end_time": "2021-09-22T14:45:41.220025Z",
     "start_time": "2021-09-22T14:45:41.016282Z"
    }
   },
   "outputs": [
    {
     "name": "stderr",
     "output_type": "stream",
     "text": [
      "b'Skipping line 555: expected 14 fields, saw 16\\nSkipping line 956: expected 14 fields, saw 19\\nSkipping line 1890: expected 14 fields, saw 19\\nSkipping line 1903: expected 14 fields, saw 17\\nSkipping line 2837: expected 14 fields, saw 32\\nSkipping line 2845: expected 14 fields, saw 21\\nSkipping line 2850: expected 14 fields, saw 31\\nSkipping line 2862: expected 14 fields, saw 19\\nSkipping line 2865: expected 14 fields, saw 19\\nSkipping line 2868: expected 14 fields, saw 17\\nSkipping line 2870: expected 14 fields, saw 21\\nSkipping line 2872: expected 14 fields, saw 17\\nSkipping line 2873: expected 14 fields, saw 21\\nSkipping line 2876: expected 14 fields, saw 17\\nSkipping line 2878: expected 14 fields, saw 16\\nSkipping line 2912: expected 14 fields, saw 66\\nSkipping line 3672: expected 14 fields, saw 17\\nSkipping line 3674: expected 14 fields, saw 17\\nSkipping line 4333: expected 14 fields, saw 16\\nSkipping line 5018: expected 14 fields, saw 20\\nSkipping line 5660: expected 14 fields, saw 24\\nSkipping line 5856: expected 14 fields, saw 16\\nSkipping line 5881: expected 14 fields, saw 17\\nSkipping line 5910: expected 14 fields, saw 20\\nSkipping line 5999: expected 14 fields, saw 18\\nSkipping line 6007: expected 14 fields, saw 42\\nSkipping line 6017: expected 14 fields, saw 18\\nSkipping line 6363: expected 14 fields, saw 15\\nSkipping line 9375: expected 14 fields, saw 22\\nSkipping line 9623: expected 14 fields, saw 16\\nSkipping line 9856: expected 14 fields, saw 15\\nSkipping line 10210: expected 14 fields, saw 15\\nSkipping line 11102: expected 14 fields, saw 18\\nSkipping line 11972: expected 14 fields, saw 15\\nSkipping line 11978: expected 14 fields, saw 20\\nSkipping line 12925: expected 14 fields, saw 21\\nSkipping line 14894: expected 14 fields, saw 16\\nSkipping line 14933: expected 14 fields, saw 15\\nSkipping line 17483: expected 14 fields, saw 22\\nSkipping line 17512: expected 14 fields, saw 20\\nSkipping line 17556: expected 14 fields, saw 19\\nSkipping line 17607: expected 14 fields, saw 15\\nSkipping line 17624: expected 14 fields, saw 17\\nSkipping line 18796: expected 14 fields, saw 15\\nSkipping line 20893: expected 14 fields, saw 16\\nSkipping line 21176: expected 14 fields, saw 22\\nSkipping line 21177: expected 14 fields, saw 15\\nSkipping line 21178: expected 14 fields, saw 17\\nSkipping line 21179: expected 14 fields, saw 18\\nSkipping line 21181: expected 14 fields, saw 19\\nSkipping line 21182: expected 14 fields, saw 20\\nSkipping line 21188: expected 14 fields, saw 84\\nSkipping line 21224: expected 14 fields, saw 17\\nSkipping line 21229: expected 14 fields, saw 17\\nSkipping line 21584: expected 14 fields, saw 15\\nSkipping line 23384: expected 14 fields, saw 15\\nSkipping line 23434: expected 14 fields, saw 18\\nSkipping line 24588: expected 14 fields, saw 17\\nSkipping line 24822: expected 14 fields, saw 20\\nSkipping line 25966: expected 14 fields, saw 20\\nSkipping line 26123: expected 14 fields, saw 18\\nSkipping line 26125: expected 14 fields, saw 19\\nSkipping line 26850: expected 14 fields, saw 24\\nSkipping line 27322: expected 14 fields, saw 18\\nSkipping line 27408: expected 14 fields, saw 19\\nSkipping line 27709: expected 14 fields, saw 17\\nSkipping line 27834: expected 14 fields, saw 22\\nSkipping line 27997: expected 14 fields, saw 26\\nSkipping line 28403: expected 14 fields, saw 16\\nSkipping line 28404: expected 14 fields, saw 21\\nSkipping line 28418: expected 14 fields, saw 19\\nSkipping line 28419: expected 14 fields, saw 20\\nSkipping line 28811: expected 14 fields, saw 45\\nSkipping line 28818: expected 14 fields, saw 15\\nSkipping line 29063: expected 14 fields, saw 18\\nSkipping line 29958: expected 14 fields, saw 18\\nSkipping line 30376: expected 14 fields, saw 16\\nSkipping line 31641: expected 14 fields, saw 21\\nSkipping line 31771: expected 14 fields, saw 15\\nSkipping line 33150: expected 14 fields, saw 15\\nSkipping line 33550: expected 14 fields, saw 26\\nSkipping line 34201: expected 14 fields, saw 19\\nSkipping line 34258: expected 14 fields, saw 17\\nSkipping line 34488: expected 14 fields, saw 36\\nSkipping line 34498: expected 14 fields, saw 19\\nSkipping line 34499: expected 14 fields, saw 17\\n'\n"
     ]
    }
   ],
   "source": [
    "amazon=pd.read_csv(\"amazon1.txt\",error_bad_lines=False)"
   ]
  },
  {
   "cell_type": "code",
   "execution_count": 17,
   "id": "b395c16e",
   "metadata": {
    "ExecuteTime": {
     "end_time": "2021-09-22T14:45:57.280093Z",
     "start_time": "2021-09-22T14:45:57.260261Z"
    }
   },
   "outputs": [
    {
     "data": {
      "text/plain": [
       "['This product so far has not disappointed.',\n",
       " 'My children love to use it and I like the ability to monitor control what content they see with ease.great for beginner or experienced person.',\n",
       " 'Bought as a gift and she loves it.Inexpensive tablet for him to use and learn on  step up from the NABI.',\n",
       " \"He was thrilled with it  learn how to Skype on it already.I've had my Fire HD 8 two weeks now and I love it.\",\n",
       " 'This tablet is a great value.We are Prime Members and that is where this tablet SHINES.',\n",
       " 'I love being able to easily access all of the Prime content as well as movies you can download and watch laterThis has a 1280/800 screen which has some really nice look to it its nice and crisp and very bright infact it is brighter then the ipad pro costing $900 base model.',\n",
       " 'The build on this fire is INSANELY AWESOME running at only 7.7mm thick and the smooth glossy feel on the back it is really amazing to hold its like the futuristic tab in ur hands.I bought this for my grand daughter when she comes over to visit.',\n",
       " 'I set it up with her as the user  entered her age and name and now Amazon makes sure that she only accesses sites and content that are appropriate to her age.',\n",
       " 'Simple to do and she loves the capabilities.',\n",
       " 'I also bought and installed a 64gig SD card which gives this little tablet plenty of storage.',\n",
       " 'For the price I think this tablet is best one out there.',\n",
       " 'You can spend hundreds of dollars more for additional speed and capacity but when it comes to the basics this tablets does everything that most people will ever need at a fraction of the cost.This amazon fire 8 inch tablet is the perfect size.',\n",
       " 'I purchased it for my husband so that he has a bigger screen than just his phone.',\n",
       " 'He had gotten me one a few years ago so I knew it would be a good purchase.Great for e-reading on the go  nice and light weight  and for the price point given  definitely worth the purchase.I gave this as a Christmas gift to my inlaws  husband and uncle.',\n",
       " 'They loved it and how easy they are to use with fantastic features!Great as a device to read books.']"
      ]
     },
     "execution_count": 17,
     "metadata": {},
     "output_type": "execute_result"
    }
   ],
   "source": [
    "from nltk import tokenize\n",
    "sentences = tokenize.sent_tokenize(\" \".join(amazon))\n",
    "sentences[0:15] "
   ]
  },
  {
   "cell_type": "code",
   "execution_count": 18,
   "id": "19dfee85",
   "metadata": {
    "ExecuteTime": {
     "end_time": "2021-09-22T14:46:15.737928Z",
     "start_time": "2021-09-22T14:46:15.713431Z"
    }
   },
   "outputs": [
    {
     "data": {
      "text/html": [
       "<div>\n",
       "<style scoped>\n",
       "    .dataframe tbody tr th:only-of-type {\n",
       "        vertical-align: middle;\n",
       "    }\n",
       "\n",
       "    .dataframe tbody tr th {\n",
       "        vertical-align: top;\n",
       "    }\n",
       "\n",
       "    .dataframe thead th {\n",
       "        text-align: right;\n",
       "    }\n",
       "</style>\n",
       "<table border=\"1\" class=\"dataframe\">\n",
       "  <thead>\n",
       "    <tr style=\"text-align: right;\">\n",
       "      <th></th>\n",
       "      <th>sentence</th>\n",
       "    </tr>\n",
       "  </thead>\n",
       "  <tbody>\n",
       "    <tr>\n",
       "      <th>0</th>\n",
       "      <td>This product so far has not disappointed.</td>\n",
       "    </tr>\n",
       "    <tr>\n",
       "      <th>1</th>\n",
       "      <td>My children love to use it and I like the abil...</td>\n",
       "    </tr>\n",
       "    <tr>\n",
       "      <th>2</th>\n",
       "      <td>Bought as a gift and she loves it.Inexpensive ...</td>\n",
       "    </tr>\n",
       "    <tr>\n",
       "      <th>3</th>\n",
       "      <td>He was thrilled with it  learn how to Skype on...</td>\n",
       "    </tr>\n",
       "    <tr>\n",
       "      <th>4</th>\n",
       "      <td>This tablet is a great value.We are Prime Memb...</td>\n",
       "    </tr>\n",
       "    <tr>\n",
       "      <th>5</th>\n",
       "      <td>I love being able to easily access all of the ...</td>\n",
       "    </tr>\n",
       "    <tr>\n",
       "      <th>6</th>\n",
       "      <td>The build on this fire is INSANELY AWESOME run...</td>\n",
       "    </tr>\n",
       "    <tr>\n",
       "      <th>7</th>\n",
       "      <td>I set it up with her as the user  entered her ...</td>\n",
       "    </tr>\n",
       "    <tr>\n",
       "      <th>8</th>\n",
       "      <td>Simple to do and she loves the capabilities.</td>\n",
       "    </tr>\n",
       "    <tr>\n",
       "      <th>9</th>\n",
       "      <td>I also bought and installed a 64gig SD card wh...</td>\n",
       "    </tr>\n",
       "    <tr>\n",
       "      <th>10</th>\n",
       "      <td>For the price I think this tablet is best one ...</td>\n",
       "    </tr>\n",
       "    <tr>\n",
       "      <th>11</th>\n",
       "      <td>You can spend hundreds of dollars more for add...</td>\n",
       "    </tr>\n",
       "    <tr>\n",
       "      <th>12</th>\n",
       "      <td>I purchased it for my husband so that he has a...</td>\n",
       "    </tr>\n",
       "    <tr>\n",
       "      <th>13</th>\n",
       "      <td>He had gotten me one a few years ago so I knew...</td>\n",
       "    </tr>\n",
       "    <tr>\n",
       "      <th>14</th>\n",
       "      <td>They loved it and how easy they are to use wit...</td>\n",
       "    </tr>\n",
       "    <tr>\n",
       "      <th>15</th>\n",
       "      <td>I like that it links with my borrowed library ...</td>\n",
       "    </tr>\n",
       "    <tr>\n",
       "      <th>16</th>\n",
       "      <td>Switched from another popular tablet brand and...</td>\n",
       "    </tr>\n",
       "    <tr>\n",
       "      <th>17</th>\n",
       "      <td>It took some time to get books from my previou...</td>\n",
       "    </tr>\n",
       "    <tr>\n",
       "      <th>18</th>\n",
       "      <td>Easy to use  large screen makes watching movie...</td>\n",
       "    </tr>\n",
       "    <tr>\n",
       "      <th>19</th>\n",
       "      <td>He can watch movies and play a few games.</td>\n",
       "    </tr>\n",
       "    <tr>\n",
       "      <th>20</th>\n",
       "      <td>Easy enough for him to use.Simply does everyth...</td>\n",
       "    </tr>\n",
       "    <tr>\n",
       "      <th>21</th>\n",
       "      <td>Thank youAnd silk works wonders.Got it as a pr...</td>\n",
       "    </tr>\n",
       "    <tr>\n",
       "      <th>22</th>\n",
       "      <td>almost perfect for what i want/need.</td>\n",
       "    </tr>\n",
       "    <tr>\n",
       "      <th>23</th>\n",
       "      <td>good bargain I really like this tablet.</td>\n",
       "    </tr>\n",
       "    <tr>\n",
       "      <th>24</th>\n",
       "      <td>I would have given 5 stars but sometimes you h...</td>\n",
       "    </tr>\n",
       "    <tr>\n",
       "      <th>25</th>\n",
       "      <td>I wish Amazon would pre install the play store...</td>\n",
       "    </tr>\n",
       "  </tbody>\n",
       "</table>\n",
       "</div>"
      ],
      "text/plain": [
       "                                             sentence\n",
       "0           This product so far has not disappointed.\n",
       "1   My children love to use it and I like the abil...\n",
       "2   Bought as a gift and she loves it.Inexpensive ...\n",
       "3   He was thrilled with it  learn how to Skype on...\n",
       "4   This tablet is a great value.We are Prime Memb...\n",
       "5   I love being able to easily access all of the ...\n",
       "6   The build on this fire is INSANELY AWESOME run...\n",
       "7   I set it up with her as the user  entered her ...\n",
       "8        Simple to do and she loves the capabilities.\n",
       "9   I also bought and installed a 64gig SD card wh...\n",
       "10  For the price I think this tablet is best one ...\n",
       "11  You can spend hundreds of dollars more for add...\n",
       "12  I purchased it for my husband so that he has a...\n",
       "13  He had gotten me one a few years ago so I knew...\n",
       "14  They loved it and how easy they are to use wit...\n",
       "15  I like that it links with my borrowed library ...\n",
       "16  Switched from another popular tablet brand and...\n",
       "17  It took some time to get books from my previou...\n",
       "18  Easy to use  large screen makes watching movie...\n",
       "19          He can watch movies and play a few games.\n",
       "20  Easy enough for him to use.Simply does everyth...\n",
       "21  Thank youAnd silk works wonders.Got it as a pr...\n",
       "22               almost perfect for what i want/need.\n",
       "23            good bargain I really like this tablet.\n",
       "24  I would have given 5 stars but sometimes you h...\n",
       "25  I wish Amazon would pre install the play store..."
      ]
     },
     "execution_count": 18,
     "metadata": {},
     "output_type": "execute_result"
    }
   ],
   "source": [
    "sent_df = pd.DataFrame(sentences, columns=['sentence'])\n",
    "sent_df "
   ]
  },
  {
   "cell_type": "code",
   "execution_count": 19,
   "id": "d9d077c1",
   "metadata": {
    "ExecuteTime": {
     "end_time": "2021-09-22T14:46:21.414568Z",
     "start_time": "2021-09-22T14:46:21.394606Z"
    }
   },
   "outputs": [],
   "source": [
    "affinity_scores = afinn.set_index('word')['value'].to_dict() "
   ]
  },
  {
   "cell_type": "code",
   "execution_count": 20,
   "id": "39d97be1",
   "metadata": {
    "ExecuteTime": {
     "end_time": "2021-09-22T14:46:26.880693Z",
     "start_time": "2021-09-22T14:46:25.147899Z"
    }
   },
   "outputs": [],
   "source": [
    "#Custom function :score each word in a sentence in lemmatised form, \n",
    "#but calculate the score for the whole original sentence.\n",
    "nlp = spacy.load('en_core_web_sm')\n",
    "sentiment_lexicon = affinity_scores\n",
    "\n",
    "def calculate_sentiment(text: str = None):\n",
    "    sent_score = 0\n",
    "    if text:\n",
    "        sentence = nlp(text)\n",
    "        for word in sentence:\n",
    "            sent_score += sentiment_lexicon.get(word.lemma_, 0)\n",
    "    return sent_score "
   ]
  },
  {
   "cell_type": "code",
   "execution_count": 21,
   "id": "14467d4f",
   "metadata": {
    "ExecuteTime": {
     "end_time": "2021-09-22T14:46:31.092056Z",
     "start_time": "2021-09-22T14:46:30.577325Z"
    }
   },
   "outputs": [
    {
     "data": {
      "text/plain": [
       "2"
      ]
     },
     "execution_count": 21,
     "metadata": {},
     "output_type": "execute_result"
    }
   ],
   "source": [
    "# test that it works\n",
    "calculate_sentiment(text = 'like') "
   ]
  },
  {
   "cell_type": "code",
   "execution_count": 22,
   "id": "c6490441",
   "metadata": {
    "ExecuteTime": {
     "end_time": "2021-09-22T14:46:39.028190Z",
     "start_time": "2021-09-22T14:46:38.529513Z"
    }
   },
   "outputs": [],
   "source": [
    "sent_df['sentiment_value'] = sent_df['sentence'].apply(calculate_sentiment) "
   ]
  },
  {
   "cell_type": "code",
   "execution_count": 23,
   "id": "f2924b95",
   "metadata": {
    "ExecuteTime": {
     "end_time": "2021-09-22T14:46:42.237004Z",
     "start_time": "2021-09-22T14:46:42.214794Z"
    }
   },
   "outputs": [
    {
     "data": {
      "text/plain": [
       "0     7\n",
       "1    25\n",
       "2    21\n",
       "3    24\n",
       "4    16\n",
       "5    53\n",
       "6    47\n",
       "7    32\n",
       "8     8\n",
       "9    17\n",
       "Name: word_count, dtype: int64"
      ]
     },
     "execution_count": 23,
     "metadata": {},
     "output_type": "execute_result"
    }
   ],
   "source": [
    "# how many words are in the sentence?\n",
    "sent_df['word_count'] = sent_df['sentence'].str.split().apply(len)\n",
    "sent_df['word_count'].head(10) "
   ]
  },
  {
   "cell_type": "code",
   "execution_count": 24,
   "id": "8134ce9d",
   "metadata": {
    "ExecuteTime": {
     "end_time": "2021-09-22T14:46:48.394065Z",
     "start_time": "2021-09-22T14:46:48.366982Z"
    }
   },
   "outputs": [
    {
     "data": {
      "text/html": [
       "<div>\n",
       "<style scoped>\n",
       "    .dataframe tbody tr th:only-of-type {\n",
       "        vertical-align: middle;\n",
       "    }\n",
       "\n",
       "    .dataframe tbody tr th {\n",
       "        vertical-align: top;\n",
       "    }\n",
       "\n",
       "    .dataframe thead th {\n",
       "        text-align: right;\n",
       "    }\n",
       "</style>\n",
       "<table border=\"1\" class=\"dataframe\">\n",
       "  <thead>\n",
       "    <tr style=\"text-align: right;\">\n",
       "      <th></th>\n",
       "      <th>sentence</th>\n",
       "      <th>sentiment_value</th>\n",
       "      <th>word_count</th>\n",
       "    </tr>\n",
       "  </thead>\n",
       "  <tbody>\n",
       "    <tr>\n",
       "      <th>0</th>\n",
       "      <td>This product so far has not disappointed.</td>\n",
       "      <td>-2</td>\n",
       "      <td>7</td>\n",
       "    </tr>\n",
       "    <tr>\n",
       "      <th>1</th>\n",
       "      <td>My children love to use it and I like the abil...</td>\n",
       "      <td>7</td>\n",
       "      <td>25</td>\n",
       "    </tr>\n",
       "    <tr>\n",
       "      <th>2</th>\n",
       "      <td>Bought as a gift and she loves it.Inexpensive ...</td>\n",
       "      <td>5</td>\n",
       "      <td>21</td>\n",
       "    </tr>\n",
       "    <tr>\n",
       "      <th>3</th>\n",
       "      <td>He was thrilled with it  learn how to Skype on...</td>\n",
       "      <td>8</td>\n",
       "      <td>24</td>\n",
       "    </tr>\n",
       "    <tr>\n",
       "      <th>4</th>\n",
       "      <td>This tablet is a great value.We are Prime Memb...</td>\n",
       "      <td>3</td>\n",
       "      <td>16</td>\n",
       "    </tr>\n",
       "    <tr>\n",
       "      <th>5</th>\n",
       "      <td>I love being able to easily access all of the ...</td>\n",
       "      <td>11</td>\n",
       "      <td>53</td>\n",
       "    </tr>\n",
       "    <tr>\n",
       "      <th>6</th>\n",
       "      <td>The build on this fire is INSANELY AWESOME run...</td>\n",
       "      <td>7</td>\n",
       "      <td>47</td>\n",
       "    </tr>\n",
       "    <tr>\n",
       "      <th>7</th>\n",
       "      <td>I set it up with her as the user  entered her ...</td>\n",
       "      <td>0</td>\n",
       "      <td>32</td>\n",
       "    </tr>\n",
       "    <tr>\n",
       "      <th>8</th>\n",
       "      <td>Simple to do and she loves the capabilities.</td>\n",
       "      <td>3</td>\n",
       "      <td>8</td>\n",
       "    </tr>\n",
       "    <tr>\n",
       "      <th>9</th>\n",
       "      <td>I also bought and installed a 64gig SD card wh...</td>\n",
       "      <td>0</td>\n",
       "      <td>17</td>\n",
       "    </tr>\n",
       "    <tr>\n",
       "      <th>10</th>\n",
       "      <td>For the price I think this tablet is best one ...</td>\n",
       "      <td>3</td>\n",
       "      <td>12</td>\n",
       "    </tr>\n",
       "    <tr>\n",
       "      <th>11</th>\n",
       "      <td>You can spend hundreds of dollars more for add...</td>\n",
       "      <td>1</td>\n",
       "      <td>44</td>\n",
       "    </tr>\n",
       "    <tr>\n",
       "      <th>12</th>\n",
       "      <td>I purchased it for my husband so that he has a...</td>\n",
       "      <td>1</td>\n",
       "      <td>17</td>\n",
       "    </tr>\n",
       "    <tr>\n",
       "      <th>13</th>\n",
       "      <td>He had gotten me one a few years ago so I knew...</td>\n",
       "      <td>13</td>\n",
       "      <td>49</td>\n",
       "    </tr>\n",
       "    <tr>\n",
       "      <th>14</th>\n",
       "      <td>They loved it and how easy they are to use wit...</td>\n",
       "      <td>8</td>\n",
       "      <td>19</td>\n",
       "    </tr>\n",
       "    <tr>\n",
       "      <th>15</th>\n",
       "      <td>I like that it links with my borrowed library ...</td>\n",
       "      <td>2</td>\n",
       "      <td>10</td>\n",
       "    </tr>\n",
       "    <tr>\n",
       "      <th>16</th>\n",
       "      <td>Switched from another popular tablet brand and...</td>\n",
       "      <td>6</td>\n",
       "      <td>15</td>\n",
       "    </tr>\n",
       "    <tr>\n",
       "      <th>17</th>\n",
       "      <td>It took some time to get books from my previou...</td>\n",
       "      <td>7</td>\n",
       "      <td>38</td>\n",
       "    </tr>\n",
       "    <tr>\n",
       "      <th>18</th>\n",
       "      <td>Easy to use  large screen makes watching movie...</td>\n",
       "      <td>6</td>\n",
       "      <td>25</td>\n",
       "    </tr>\n",
       "    <tr>\n",
       "      <th>19</th>\n",
       "      <td>He can watch movies and play a few games.</td>\n",
       "      <td>0</td>\n",
       "      <td>9</td>\n",
       "    </tr>\n",
       "    <tr>\n",
       "      <th>20</th>\n",
       "      <td>Easy enough for him to use.Simply does everyth...</td>\n",
       "      <td>1</td>\n",
       "      <td>10</td>\n",
       "    </tr>\n",
       "    <tr>\n",
       "      <th>21</th>\n",
       "      <td>Thank youAnd silk works wonders.Got it as a pr...</td>\n",
       "      <td>11</td>\n",
       "      <td>29</td>\n",
       "    </tr>\n",
       "    <tr>\n",
       "      <th>22</th>\n",
       "      <td>almost perfect for what i want/need.</td>\n",
       "      <td>4</td>\n",
       "      <td>6</td>\n",
       "    </tr>\n",
       "    <tr>\n",
       "      <th>23</th>\n",
       "      <td>good bargain I really like this tablet.</td>\n",
       "      <td>7</td>\n",
       "      <td>7</td>\n",
       "    </tr>\n",
       "    <tr>\n",
       "      <th>24</th>\n",
       "      <td>I would have given 5 stars but sometimes you h...</td>\n",
       "      <td>32</td>\n",
       "      <td>99</td>\n",
       "    </tr>\n",
       "    <tr>\n",
       "      <th>25</th>\n",
       "      <td>I wish Amazon would pre install the play store...</td>\n",
       "      <td>4</td>\n",
       "      <td>14</td>\n",
       "    </tr>\n",
       "  </tbody>\n",
       "</table>\n",
       "</div>"
      ],
      "text/plain": [
       "                                             sentence  sentiment_value  \\\n",
       "0           This product so far has not disappointed.               -2   \n",
       "1   My children love to use it and I like the abil...                7   \n",
       "2   Bought as a gift and she loves it.Inexpensive ...                5   \n",
       "3   He was thrilled with it  learn how to Skype on...                8   \n",
       "4   This tablet is a great value.We are Prime Memb...                3   \n",
       "5   I love being able to easily access all of the ...               11   \n",
       "6   The build on this fire is INSANELY AWESOME run...                7   \n",
       "7   I set it up with her as the user  entered her ...                0   \n",
       "8        Simple to do and she loves the capabilities.                3   \n",
       "9   I also bought and installed a 64gig SD card wh...                0   \n",
       "10  For the price I think this tablet is best one ...                3   \n",
       "11  You can spend hundreds of dollars more for add...                1   \n",
       "12  I purchased it for my husband so that he has a...                1   \n",
       "13  He had gotten me one a few years ago so I knew...               13   \n",
       "14  They loved it and how easy they are to use wit...                8   \n",
       "15  I like that it links with my borrowed library ...                2   \n",
       "16  Switched from another popular tablet brand and...                6   \n",
       "17  It took some time to get books from my previou...                7   \n",
       "18  Easy to use  large screen makes watching movie...                6   \n",
       "19          He can watch movies and play a few games.                0   \n",
       "20  Easy enough for him to use.Simply does everyth...                1   \n",
       "21  Thank youAnd silk works wonders.Got it as a pr...               11   \n",
       "22               almost perfect for what i want/need.                4   \n",
       "23            good bargain I really like this tablet.                7   \n",
       "24  I would have given 5 stars but sometimes you h...               32   \n",
       "25  I wish Amazon would pre install the play store...                4   \n",
       "\n",
       "    word_count  \n",
       "0            7  \n",
       "1           25  \n",
       "2           21  \n",
       "3           24  \n",
       "4           16  \n",
       "5           53  \n",
       "6           47  \n",
       "7           32  \n",
       "8            8  \n",
       "9           17  \n",
       "10          12  \n",
       "11          44  \n",
       "12          17  \n",
       "13          49  \n",
       "14          19  \n",
       "15          10  \n",
       "16          15  \n",
       "17          38  \n",
       "18          25  \n",
       "19           9  \n",
       "20          10  \n",
       "21          29  \n",
       "22           6  \n",
       "23           7  \n",
       "24          99  \n",
       "25          14  "
      ]
     },
     "execution_count": 24,
     "metadata": {},
     "output_type": "execute_result"
    }
   ],
   "source": [
    "sent_df "
   ]
  },
  {
   "cell_type": "code",
   "execution_count": 25,
   "id": "793eaee6",
   "metadata": {
    "ExecuteTime": {
     "end_time": "2021-09-22T14:46:55.238462Z",
     "start_time": "2021-09-22T14:46:55.211189Z"
    }
   },
   "outputs": [
    {
     "data": {
      "text/html": [
       "<div>\n",
       "<style scoped>\n",
       "    .dataframe tbody tr th:only-of-type {\n",
       "        vertical-align: middle;\n",
       "    }\n",
       "\n",
       "    .dataframe tbody tr th {\n",
       "        vertical-align: top;\n",
       "    }\n",
       "\n",
       "    .dataframe thead th {\n",
       "        text-align: right;\n",
       "    }\n",
       "</style>\n",
       "<table border=\"1\" class=\"dataframe\">\n",
       "  <thead>\n",
       "    <tr style=\"text-align: right;\">\n",
       "      <th></th>\n",
       "      <th>sentence</th>\n",
       "      <th>sentiment_value</th>\n",
       "      <th>word_count</th>\n",
       "    </tr>\n",
       "  </thead>\n",
       "  <tbody>\n",
       "    <tr>\n",
       "      <th>6</th>\n",
       "      <td>The build on this fire is INSANELY AWESOME run...</td>\n",
       "      <td>7</td>\n",
       "      <td>47</td>\n",
       "    </tr>\n",
       "    <tr>\n",
       "      <th>17</th>\n",
       "      <td>It took some time to get books from my previou...</td>\n",
       "      <td>7</td>\n",
       "      <td>38</td>\n",
       "    </tr>\n",
       "    <tr>\n",
       "      <th>1</th>\n",
       "      <td>My children love to use it and I like the abil...</td>\n",
       "      <td>7</td>\n",
       "      <td>25</td>\n",
       "    </tr>\n",
       "    <tr>\n",
       "      <th>23</th>\n",
       "      <td>good bargain I really like this tablet.</td>\n",
       "      <td>7</td>\n",
       "      <td>7</td>\n",
       "    </tr>\n",
       "    <tr>\n",
       "      <th>3</th>\n",
       "      <td>He was thrilled with it  learn how to Skype on...</td>\n",
       "      <td>8</td>\n",
       "      <td>24</td>\n",
       "    </tr>\n",
       "    <tr>\n",
       "      <th>14</th>\n",
       "      <td>They loved it and how easy they are to use wit...</td>\n",
       "      <td>8</td>\n",
       "      <td>19</td>\n",
       "    </tr>\n",
       "    <tr>\n",
       "      <th>21</th>\n",
       "      <td>Thank youAnd silk works wonders.Got it as a pr...</td>\n",
       "      <td>11</td>\n",
       "      <td>29</td>\n",
       "    </tr>\n",
       "    <tr>\n",
       "      <th>5</th>\n",
       "      <td>I love being able to easily access all of the ...</td>\n",
       "      <td>11</td>\n",
       "      <td>53</td>\n",
       "    </tr>\n",
       "    <tr>\n",
       "      <th>13</th>\n",
       "      <td>He had gotten me one a few years ago so I knew...</td>\n",
       "      <td>13</td>\n",
       "      <td>49</td>\n",
       "    </tr>\n",
       "    <tr>\n",
       "      <th>24</th>\n",
       "      <td>I would have given 5 stars but sometimes you h...</td>\n",
       "      <td>32</td>\n",
       "      <td>99</td>\n",
       "    </tr>\n",
       "  </tbody>\n",
       "</table>\n",
       "</div>"
      ],
      "text/plain": [
       "                                             sentence  sentiment_value  \\\n",
       "6   The build on this fire is INSANELY AWESOME run...                7   \n",
       "17  It took some time to get books from my previou...                7   \n",
       "1   My children love to use it and I like the abil...                7   \n",
       "23            good bargain I really like this tablet.                7   \n",
       "3   He was thrilled with it  learn how to Skype on...                8   \n",
       "14  They loved it and how easy they are to use wit...                8   \n",
       "21  Thank youAnd silk works wonders.Got it as a pr...               11   \n",
       "5   I love being able to easily access all of the ...               11   \n",
       "13  He had gotten me one a few years ago so I knew...               13   \n",
       "24  I would have given 5 stars but sometimes you h...               32   \n",
       "\n",
       "    word_count  \n",
       "6           47  \n",
       "17          38  \n",
       "1           25  \n",
       "23           7  \n",
       "3           24  \n",
       "14          19  \n",
       "21          29  \n",
       "5           53  \n",
       "13          49  \n",
       "24          99  "
      ]
     },
     "execution_count": 25,
     "metadata": {},
     "output_type": "execute_result"
    }
   ],
   "source": [
    "sent_df.sort_values(by='sentiment_value').tail(10) "
   ]
  },
  {
   "cell_type": "code",
   "execution_count": 26,
   "id": "382f38c7",
   "metadata": {
    "ExecuteTime": {
     "end_time": "2021-09-22T14:47:01.058982Z",
     "start_time": "2021-09-22T14:47:01.037100Z"
    }
   },
   "outputs": [
    {
     "data": {
      "text/plain": [
       "count    26.000000\n",
       "mean      5.692308\n",
       "std       6.583429\n",
       "min      -2.000000\n",
       "25%       1.250000\n",
       "50%       4.500000\n",
       "75%       7.000000\n",
       "max      32.000000\n",
       "Name: sentiment_value, dtype: float64"
      ]
     },
     "execution_count": 26,
     "metadata": {},
     "output_type": "execute_result"
    }
   ],
   "source": [
    "# Sentiment score of the whole review\n",
    "sent_df['sentiment_value'].describe() "
   ]
  },
  {
   "cell_type": "code",
   "execution_count": 27,
   "id": "145ec9ad",
   "metadata": {
    "ExecuteTime": {
     "end_time": "2021-09-22T14:47:07.126273Z",
     "start_time": "2021-09-22T14:47:06.907962Z"
    }
   },
   "outputs": [
    {
     "data": {
      "text/html": [
       "<div>\n",
       "<style scoped>\n",
       "    .dataframe tbody tr th:only-of-type {\n",
       "        vertical-align: middle;\n",
       "    }\n",
       "\n",
       "    .dataframe tbody tr th {\n",
       "        vertical-align: top;\n",
       "    }\n",
       "\n",
       "    .dataframe thead th {\n",
       "        text-align: right;\n",
       "    }\n",
       "</style>\n",
       "<table border=\"1\" class=\"dataframe\">\n",
       "  <thead>\n",
       "    <tr style=\"text-align: right;\">\n",
       "      <th></th>\n",
       "      <th>sentence</th>\n",
       "      <th>sentiment_value</th>\n",
       "      <th>word_count</th>\n",
       "    </tr>\n",
       "  </thead>\n",
       "  <tbody>\n",
       "    <tr>\n",
       "      <th>0</th>\n",
       "      <td>This product so far has not disappointed.</td>\n",
       "      <td>-2</td>\n",
       "      <td>7</td>\n",
       "    </tr>\n",
       "    <tr>\n",
       "      <th>7</th>\n",
       "      <td>I set it up with her as the user  entered her ...</td>\n",
       "      <td>0</td>\n",
       "      <td>32</td>\n",
       "    </tr>\n",
       "    <tr>\n",
       "      <th>9</th>\n",
       "      <td>I also bought and installed a 64gig SD card wh...</td>\n",
       "      <td>0</td>\n",
       "      <td>17</td>\n",
       "    </tr>\n",
       "    <tr>\n",
       "      <th>19</th>\n",
       "      <td>He can watch movies and play a few games.</td>\n",
       "      <td>0</td>\n",
       "      <td>9</td>\n",
       "    </tr>\n",
       "  </tbody>\n",
       "</table>\n",
       "</div>"
      ],
      "text/plain": [
       "                                             sentence  sentiment_value  \\\n",
       "0           This product so far has not disappointed.               -2   \n",
       "7   I set it up with her as the user  entered her ...                0   \n",
       "9   I also bought and installed a 64gig SD card wh...                0   \n",
       "19          He can watch movies and play a few games.                0   \n",
       "\n",
       "    word_count  \n",
       "0            7  \n",
       "7           32  \n",
       "9           17  \n",
       "19           9  "
      ]
     },
     "execution_count": 27,
     "metadata": {},
     "output_type": "execute_result"
    }
   ],
   "source": [
    "# Sentiment score of the whole review\n",
    "sent_df[sent_df['sentiment_value']<=0].head() "
   ]
  },
  {
   "cell_type": "code",
   "execution_count": 28,
   "id": "b474f25e",
   "metadata": {
    "ExecuteTime": {
     "end_time": "2021-09-22T14:47:13.048523Z",
     "start_time": "2021-09-22T14:47:13.023991Z"
    }
   },
   "outputs": [
    {
     "data": {
      "text/html": [
       "<div>\n",
       "<style scoped>\n",
       "    .dataframe tbody tr th:only-of-type {\n",
       "        vertical-align: middle;\n",
       "    }\n",
       "\n",
       "    .dataframe tbody tr th {\n",
       "        vertical-align: top;\n",
       "    }\n",
       "\n",
       "    .dataframe thead th {\n",
       "        text-align: right;\n",
       "    }\n",
       "</style>\n",
       "<table border=\"1\" class=\"dataframe\">\n",
       "  <thead>\n",
       "    <tr style=\"text-align: right;\">\n",
       "      <th></th>\n",
       "      <th>sentence</th>\n",
       "      <th>sentiment_value</th>\n",
       "      <th>word_count</th>\n",
       "    </tr>\n",
       "  </thead>\n",
       "  <tbody>\n",
       "    <tr>\n",
       "      <th>24</th>\n",
       "      <td>I would have given 5 stars but sometimes you h...</td>\n",
       "      <td>32</td>\n",
       "      <td>99</td>\n",
       "    </tr>\n",
       "  </tbody>\n",
       "</table>\n",
       "</div>"
      ],
      "text/plain": [
       "                                             sentence  sentiment_value  \\\n",
       "24  I would have given 5 stars but sometimes you h...               32   \n",
       "\n",
       "    word_count  \n",
       "24          99  "
      ]
     },
     "execution_count": 28,
     "metadata": {},
     "output_type": "execute_result"
    }
   ],
   "source": [
    "sent_df[sent_df['sentiment_value']>=20].head() "
   ]
  },
  {
   "cell_type": "code",
   "execution_count": 29,
   "id": "e0dc0576",
   "metadata": {
    "ExecuteTime": {
     "end_time": "2021-09-22T14:47:19.832405Z",
     "start_time": "2021-09-22T14:47:19.824523Z"
    }
   },
   "outputs": [],
   "source": [
    "sent_df['index']=range(0,len(sent_df)) "
   ]
  },
  {
   "cell_type": "code",
   "execution_count": 30,
   "id": "34386bb3",
   "metadata": {
    "ExecuteTime": {
     "end_time": "2021-09-22T14:47:26.182531Z",
     "start_time": "2021-09-22T14:47:24.093422Z"
    }
   },
   "outputs": [
    {
     "name": "stderr",
     "output_type": "stream",
     "text": [
      "C:\\Users\\bhavy\\anaconda3\\lib\\site-packages\\seaborn\\distributions.py:2557: FutureWarning: `distplot` is a deprecated function and will be removed in a future version. Please adapt your code to use either `displot` (a figure-level function with similar flexibility) or `histplot` (an axes-level function for histograms).\n",
      "  warnings.warn(msg, FutureWarning)\n"
     ]
    },
    {
     "data": {
      "text/plain": [
       "<AxesSubplot:xlabel='sentiment_value', ylabel='Density'>"
      ]
     },
     "execution_count": 30,
     "metadata": {},
     "output_type": "execute_result"
    },
    {
     "data": {
      "image/png": "[encoded data removed]",
      "text/plain": [
       "<Figure size 432x288 with 1 Axes>"
      ]
     },
     "metadata": {
      "needs_background": "light"
     },
     "output_type": "display_data"
    }
   ],
   "source": [
    "import seaborn as sns\n",
    "import matplotlib.pyplot as plt\n",
    "sns.distplot(sent_df['sentiment_value']) "
   ]
  },
  {
   "cell_type": "code",
   "execution_count": 31,
   "id": "de0ee71b",
   "metadata": {
    "ExecuteTime": {
     "end_time": "2021-09-22T14:47:32.166530Z",
     "start_time": "2021-09-22T14:47:31.687003Z"
    }
   },
   "outputs": [
    {
     "data": {
      "text/plain": [
       "<AxesSubplot:xlabel='index', ylabel='sentiment_value'>"
      ]
     },
     "execution_count": 31,
     "metadata": {},
     "output_type": "execute_result"
    },
    {
     "data": {
      "image/png": "[encoded data removed]",
      "text/plain": [
       "<Figure size 1080x720 with 1 Axes>"
      ]
     },
     "metadata": {
      "needs_background": "light"
     },
     "output_type": "display_data"
    }
   ],
   "source": [
    "plt.figure(figsize=(15, 10))\n",
    "sns.lineplot(y='sentiment_value',x='index',data=sent_df) "
   ]
  },
  {
   "cell_type": "code",
   "execution_count": 32,
   "id": "f8df106f",
   "metadata": {
    "ExecuteTime": {
     "end_time": "2021-09-22T14:47:38.573030Z",
     "start_time": "2021-09-22T14:47:37.988564Z"
    }
   },
   "outputs": [
    {
     "data": {
      "text/plain": [
       "<AxesSubplot:title={'center':'Sentence sentiment value to sentence word count'}, xlabel='word_count', ylabel='sentiment_value'>"
      ]
     },
     "execution_count": 32,
     "metadata": {},
     "output_type": "execute_result"
    },
    {
     "data": {
      "image/png": "[encoded data removed]",
      "text/plain": [
       "<Figure size 576x576 with 1 Axes>"
      ]
     },
     "metadata": {
      "needs_background": "light"
     },
     "output_type": "display_data"
    }
   ],
   "source": [
    "sent_df.plot.scatter(x='word_count', y='sentiment_value', figsize=(8,8), title='Sentence sentiment value to sentence word count')"
   ]
  },
  {
   "cell_type": "code",
   "execution_count": null,
   "id": "d1f07451",
   "metadata": {},
   "outputs": [],
   "source": []
  },
  {
   "cell_type": "code",
   "execution_count": null,
   "id": "439a567e",
   "metadata": {},
   "outputs": [],
   "source": []
  }
 ],
 "metadata": {
  "kernelspec": {
   "display_name": "Python 3",
   "language": "python",
   "name": "python3"
  },
  "language_info": {
   "codemirror_mode": {
    "name": "ipython",
    "version": 3
   },
   "file_extension": ".py",
   "mimetype": "text/x-python",
   "name": "python",
   "nbconvert_exporter": "python",
   "pygments_lexer": "ipython3",
   "version": "3.8.8"
  },
  "varInspector": {
   "cols": {
    "lenName": 16,
    "lenType": 16,
    "lenVar": 40
   },
   "kernels_config": {
    "python": {
     "delete_cmd_postfix": "",
     "delete_cmd_prefix": "del ",
     "library": "var_list.py",
     "varRefreshCmd": "print(var_dic_list())"
    },
    "r": {
     "delete_cmd_postfix": ") ",
     "delete_cmd_prefix": "rm(",
     "library": "var_list.r",
     "varRefreshCmd": "cat(var_dic_list()) "
    }
   },
   "types_to_exclude": [
    "module",
    "function",
    "builtin_function_or_method",
    "instance",
    "_Feature"
   ],
   "window_display": false
  }
 },
 "nbformat": 4,
 "nbformat_minor": 5
}
